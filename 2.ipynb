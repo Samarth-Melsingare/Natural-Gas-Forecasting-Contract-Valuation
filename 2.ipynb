{
 "cells": [
  {
   "cell_type": "code",
   "execution_count": 13,
   "id": "a8efdccf",
   "metadata": {},
   "outputs": [
    {
     "name": "stdout",
     "output_type": "stream",
     "text": [
      "injection_price: 10.1\n",
      "withdrawal_price: 11.8\n",
      "months in store: 43\n",
      "total_injected_volume: 4300000\n",
      "cost_of_injection: 43000000.0\n",
      "revenue_from_sale: 50740000.0\n",
      "total_storage_cost: 4300000\n",
      "\n",
      "Estimated Contract Profit: $ 3440000.0\n"
     ]
    },
    {
     "name": "stderr",
     "output_type": "stream",
     "text": [
      "C:\\Users\\HP\\AppData\\Local\\Temp\\ipykernel_15068\\1599239051.py:5: UserWarning: Could not infer format, so each element will be parsed individually, falling back to `dateutil`. To ensure parsing is consistent and as-expected, please specify a format.\n",
      "  gas_data['Dates'] = pd.to_datetime(gas_data['Dates'])\n"
     ]
    }
   ],
   "source": [
    "import pandas as pd\n",
    "\n",
    "# Load historical gas price data\n",
    "gas_data = pd.read_csv(\"C:/Users/HP/Desktop/J P Morgan/Nat_Gas.csv\")\n",
    "gas_data['Dates'] = pd.to_datetime(gas_data['Dates'])\n",
    "gas_data.set_index('Dates', inplace=True)\n",
    "\n",
    "# Predict gas price (exact date match or nearest prior date)\n",
    "def predict_gas_price(date_str):\n",
    "    date = pd.to_datetime(date_str)\n",
    "    if date in gas_data.index:\n",
    "        return gas_data.loc[date]['Prices']\n",
    "    else:\n",
    "        # Find the nearest earlier date with available data\n",
    "        past_dates = gas_data[gas_data.index <= date]\n",
    "        if not past_dates.empty:\n",
    "            return past_dates.iloc[-1]['Prices']\n",
    "        else:\n",
    "            raise ValueError(f\"No price data available for or before {date_str}\")\n",
    "\n",
    "# Pricing model\n",
    "def calculate_contract_value_model(injection_dates, withdrawal_dates,\n",
    "                                   injection_rate, injection_withdrawal_costs,\n",
    "                                   max_storage_volume, storage_cost_per_month):\n",
    "\n",
    "    total_profit = 0\n",
    "    avg_num_months = 30.42\n",
    "\n",
    "    for i in range(len(injection_dates)):\n",
    "        injection_price = predict_gas_price(injection_dates[i])\n",
    "        print('injection_price:', injection_price)\n",
    "        \n",
    "        withdrawal_price = predict_gas_price(withdrawal_dates[i])\n",
    "        print('withdrawal_price:', withdrawal_price)\n",
    "\n",
    "        months_in_store = round((pd.to_datetime(withdrawal_dates[i]) - pd.to_datetime(injection_dates[i])).days / avg_num_months)\n",
    "        print('months in store:', months_in_store)\n",
    "\n",
    "        total_injected_volume = min(months_in_store * injection_rate, max_storage_volume)\n",
    "        print('total_injected_volume:', total_injected_volume)\n",
    "\n",
    "        cost_of_injection = (total_injected_volume * injection_price) - (total_injected_volume / 100000 * injection_withdrawal_costs)\n",
    "        print('cost_of_injection:', cost_of_injection)\n",
    "\n",
    "        revenue_from_sale = total_injected_volume * withdrawal_price\n",
    "        print('revenue_from_sale:', revenue_from_sale)\n",
    "\n",
    "        total_storage_cost = months_in_store * storage_cost_per_month\n",
    "        print('total_storage_cost:', total_storage_cost)\n",
    "\n",
    "        total_profit += (revenue_from_sale - cost_of_injection - total_storage_cost)\n",
    "\n",
    "    return total_profit\n",
    "\n",
    "# Sample parameters\n",
    "injection_dates = ['10/31/2021']\n",
    "withdrawal_dates = ['5/28/2025']\n",
    "injection_rate = 100000  # MMBtu per month\n",
    "injection_withdrawal_costs = 10000  # per MMBtu\n",
    "max_storage_volume = 50000000  # MMBtu\n",
    "storage_cost_per_month = 100000  # $\n",
    "\n",
    "# Run the model\n",
    "profit = calculate_contract_value_model(injection_dates, withdrawal_dates,\n",
    "                                        injection_rate, injection_withdrawal_costs,\n",
    "                                        max_storage_volume, storage_cost_per_month)\n",
    "\n",
    "print(\"\\nEstimated Contract Profit: $\", round(profit, 2))\n"
   ]
  },
  {
   "cell_type": "code",
   "execution_count": null,
   "id": "fa709ecb",
   "metadata": {},
   "outputs": [],
   "source": []
  }
 ],
 "metadata": {
  "kernelspec": {
   "display_name": "base",
   "language": "python",
   "name": "python3"
  },
  "language_info": {
   "codemirror_mode": {
    "name": "ipython",
    "version": 3
   },
   "file_extension": ".py",
   "mimetype": "text/x-python",
   "name": "python",
   "nbconvert_exporter": "python",
   "pygments_lexer": "ipython3",
   "version": "3.12.7"
  }
 },
 "nbformat": 4,
 "nbformat_minor": 5
}
